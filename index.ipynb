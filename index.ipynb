{
 "cells": [
  {
   "cell_type": "raw",
   "id": "6a68545b-f14c-46af-8fd5-3a303710ddd2",
   "metadata": {},
   "source": [
    "---\n",
    "title: \"Minimal Example of Tutorial in Jupyter Notebook with Python\"\n",
    "author: Raniere Silva\n",
    "---"
   ]
  },
  {
   "cell_type": "markdown",
   "id": "be35f2aa-c8e8-4c9a-9375-8ab72b5e33a4",
   "metadata": {},
   "source": [
    "This example demonstrates metadata for Methods Hub."
   ]
  },
  {
   "attachments": {},
   "cell_type": "markdown",
   "id": "226bc283",
   "metadata": {},
   "source": [
    "## Execution of Python code"
   ]
  },
  {
   "cell_type": "raw",
   "id": "d9295b92",
   "metadata": {},
   "source": [
    "1 + 1"
   ]
  },
  {
   "attachments": {},
   "cell_type": "markdown",
   "id": "5bc28f3c",
   "metadata": {},
   "source": [
    "## Binder\n",
    "\n",
    "The link to Binder will launch Jupyter Lab."
   ]
  }
 ],
 "metadata": {
  "kernelspec": {
   "display_name": "Python 3 (ipykernel)",
   "language": "python",
   "name": "python3"
  },
  "language_info": {
   "codemirror_mode": {
    "name": "ipython",
    "version": 3
   },
   "file_extension": ".py",
   "mimetype": "text/x-python",
   "name": "python",
   "nbconvert_exporter": "python",
   "pygments_lexer": "ipython3",
   "version": "3.9.10"
  }
 },
 "nbformat": 4,
 "nbformat_minor": 5
}
